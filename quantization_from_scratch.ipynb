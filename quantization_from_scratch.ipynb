{
 "cells": [
  {
   "cell_type": "code",
   "execution_count": 55,
   "metadata": {},
   "outputs": [
    {
     "name": "stdout",
     "output_type": "stream",
     "text": [
      "[140.5  -35.47   0.     8.92 120.21  46.51 -28.55 103.86  20.8   76.85\n",
      " -32.4   32.71  90.   -34.47 -10.2   64.31 139.5   -7.02  63.14  20.21]\n"
     ]
    }
   ],
   "source": [
    "import numpy as np \n",
    "\n",
    "# suppress scientific notation\n",
    "np.set_printoptions(suppress=True)\n",
    "\n",
    "# generate randomly distributed parameters\n",
    "params = np.random.uniform(low=-50, high=150, size=20)\n",
    "\n",
    "# make sure important values are at the beginning for better debugging\n",
    "params[0] = params.max() + 1\n",
    "params[1] = params.min() - 1\n",
    "params[2] = 0\n",
    "\n",
    "# round each number to the second decimal place\n",
    "params = np.round(params, 2)\n",
    "\n",
    "# show the paramters\n",
    "print(params)"
   ]
  },
  {
   "cell_type": "code",
   "execution_count": 56,
   "metadata": {},
   "outputs": [
    {
     "name": "stdout",
     "output_type": "stream",
     "text": [
      "Original: \n",
      "[140.5  -35.47   0.     8.92 120.21  46.51 -28.55 103.86  20.8   76.85\n",
      " -32.4   32.71  90.   -34.47 -10.2   64.31 139.5   -7.02  63.14  20.21]\n",
      "\n",
      "Asymetric scale: 0.690078431372549 | Zero: 51.0\n",
      "[255   0  51  64 225 118  10 202  81 162   4  98 181   1  36 144 253  41\n",
      " 142  80]\n",
      "\n",
      "Symetric scale: 1.1062992125984252\n",
      "[127 -32   0   8 109  42 -26  94  19  69 -29  30  81 -31  -9  58 126  -6\n",
      "  57  18]\n"
     ]
    }
   ],
   "source": [
    "def clamp(params_q: np.array, lower_bound: int, upper_bound: int) -> np.array:\n",
    "    params_q[params_q < lower_bound] = lower_bound\n",
    "    params_q[params_q > upper_bound] = upper_bound\n",
    "    return params_q\n",
    "\n",
    "def asymmetric_quantization(params: np.array, bits: int) -> tuple[np.array, float, int]:\n",
    "    # Calculate the scale and zero point\n",
    "    alpha = np.max(params)\n",
    "    beta = np.min(params)\n",
    "    scale = (alpha - beta) / (2**bits-1)\n",
    "    zero = -1*np.round(beta / scale)\n",
    "    lower_bound, upper_bound = 0, 2**bits-1\n",
    "    # Quantize the parameters\n",
    "    quantized = clamp(np.round(params / scale + zero), lower_bound, upper_bound).astype(np.int32)\n",
    "    return quantized, scale, zero\n",
    "\n",
    "def asymmetric_dequantize(params_q: np.array, scale: float, zero: int) -> np.array:\n",
    "    return (params_q - zero) * scale\n",
    "\n",
    "def symmetric_quantization(params: np.array, bits: int) -> tuple[np.array, float]:\n",
    "    alpha = np.max(np.abs(params))\n",
    "    scale = alpha / (2**(bits-1) -1)\n",
    "    lower_bound = -2**(bits-1)\n",
    "    upper_bound = 2**(bits-1)-1\n",
    "    quantized = clamp(np.round(params / scale), lower_bound, upper_bound).astype(np.int32)\n",
    "    return quantized, scale\n",
    "\n",
    "def symmetric_dequantize(params_q: np.array, scale: float) -> np.array:\n",
    "    return params_q * scale \n",
    "\n",
    "def quantization_error(params: np.array, params_q: np.array):\n",
    "    return np.mean((params - params_q)**2)\n",
    "\n",
    "(asymmetric_q, asymmetric_scale, asymmetric_zero) = asymmetric_quantization(params, 8)\n",
    "(symmetric_q, symmetric_scale) = symmetric_quantization(params, 8)\n",
    "\n",
    "print(\"Original: \")\n",
    "print(np.round(params, 2))\n",
    "print(\"\")\n",
    "print(f\"Asymetric scale: {asymmetric_scale} | Zero: {asymmetric_zero}\")\n",
    "print(asymmetric_q)\n",
    "print(\"\")\n",
    "print(f\"Symetric scale: {symmetric_scale}\")\n",
    "print(symmetric_q)"
   ]
  },
  {
   "cell_type": "code",
   "execution_count": 57,
   "metadata": {},
   "outputs": [
    {
     "name": "stdout",
     "output_type": "stream",
     "text": [
      "Original:\n",
      "[140.5  -35.47   0.     8.92 120.21  46.51 -28.55 103.86  20.8   76.85\n",
      " -32.4   32.71  90.   -34.47 -10.2   64.31 139.5   -7.02  63.14  20.21]\n",
      "\n",
      "Dequantize Asymmetric:\n",
      "[140.78 -35.19   0.     8.97 120.07  46.24 -28.29 104.2   20.7   76.6\n",
      " -32.43  32.43  89.71 -34.5  -10.35  64.18 139.4   -6.9   62.8   20.01]\n",
      "\n",
      "Dequantize Symmetric:\n",
      "[140.5  -35.4    0.     8.85 120.59  46.46 -28.76 103.99  21.02  76.33\n",
      " -32.08  33.19  89.61 -34.3   -9.96  64.17 139.39  -6.64  63.06  19.91]\n"
     ]
    }
   ],
   "source": [
    "# Dequantize the parameters back to 32 bits\n",
    "params_deq_asymmetric = asymmetric_dequantize(asymmetric_q, asymmetric_scale, asymmetric_zero)\n",
    "params_deq_symmetric = symmetric_dequantize(symmetric_q, symmetric_scale)\n",
    "\n",
    "print(f'Original:')\n",
    "print(np.round(params, 2))\n",
    "print('')\n",
    "print(f'Dequantize Asymmetric:')\n",
    "print(np.round(params_deq_asymmetric,2))\n",
    "print('')\n",
    "print(f'Dequantize Symmetric:')\n",
    "print(np.round(params_deq_symmetric, 2))"
   ]
  },
  {
   "cell_type": "code",
   "execution_count": 58,
   "metadata": {},
   "outputs": [
    {
     "name": "stdout",
     "output_type": "stream",
     "text": [
      "  Asymmetric error: 0.04\n",
      "   Symmetric error: 0.07\n"
     ]
    }
   ],
   "source": [
    "# Calculate the quantization error\n",
    "print(f'{\"Asymmetric error: \":>20}{np.round(quantization_error(params, params_deq_asymmetric), 2)}')\n",
    "print(f'{\"Symmetric error: \":>20}{np.round(quantization_error(params, params_deq_symmetric), 2)}')"
   ]
  }
 ],
 "metadata": {
  "kernelspec": {
   "display_name": "Python 3",
   "language": "python",
   "name": "python3"
  },
  "language_info": {
   "codemirror_mode": {
    "name": "ipython",
    "version": 3
   },
   "file_extension": ".py",
   "mimetype": "text/x-python",
   "name": "python",
   "nbconvert_exporter": "python",
   "pygments_lexer": "ipython3",
   "version": "3.9.0"
  }
 },
 "nbformat": 4,
 "nbformat_minor": 2
}
